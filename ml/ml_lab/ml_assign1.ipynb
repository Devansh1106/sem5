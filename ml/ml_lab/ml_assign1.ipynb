{
  "nbformat": 4,
  "nbformat_minor": 0,
  "metadata": {
    "colab": {
      "provenance": [],
      "authorship_tag": "ABX9TyPhw8spESTdzUjWy4oeDf3O",
      "include_colab_link": true
    },
    "kernelspec": {
      "name": "python3",
      "display_name": "Python 3"
    },
    "language_info": {
      "name": "python"
    }
  },
  "cells": [
    {
      "cell_type": "markdown",
      "metadata": {
        "id": "view-in-github",
        "colab_type": "text"
      },
      "source": [
        "<a href=\"https://colab.research.google.com/github/Devansh1106/sem5/blob/master/ml/ml_lab/ml_assign1.ipynb\" target=\"_parent\"><img src=\"https://colab.research.google.com/assets/colab-badge.svg\" alt=\"Open In Colab\"/></a>"
      ]
    },
    {
      "cell_type": "markdown",
      "source": [
        "Write a numpy program to test whether none of the elements of a given array is zero."
      ],
      "metadata": {
        "id": "dLuLC6PkG2G-"
      }
    },
    {
      "cell_type": "code",
      "execution_count": 20,
      "metadata": {
        "colab": {
          "base_uri": "https://localhost:8080/"
        },
        "id": "eG2-hdL6GyKL",
        "outputId": "5dd6d22b-856c-4cbc-e97a-f587f1308d8f"
      },
      "outputs": [
        {
          "output_type": "stream",
          "name": "stdout",
          "text": [
            "Array we are checking: [ 1 19 14  2  3  7  9  7 11 17]\n",
            "Array does not contains any zero.\n"
          ]
        }
      ],
      "source": [
        "import numpy as np\n",
        "x = np.random.randint(20, size=(10))\n",
        "print(\"Array we are checking:\",x)\n",
        "check = 0\n",
        "for i in range(1, len(x)):\n",
        "  if x[i] == 0:\n",
        "    print(\"The array contains one or more 0's.\")\n",
        "    check = 1\n",
        "    break\n",
        "if check == 0:\n",
        "  print(\"Array does not contains any zero.\")\n"
      ]
    },
    {
      "cell_type": "markdown",
      "source": [
        "Write a program to test whether any of the elements of a given array is non-zero."
      ],
      "metadata": {
        "id": "Rgp1e12-IfYB"
      }
    },
    {
      "cell_type": "code",
      "source": [
        "import numpy as np\n",
        "x = np.random.randint(10, size=10) # for example of a array of all zero entries, put 0 instead of 10\n",
        "print(\"Array we are checking:\",x)\n",
        "check = 0\n",
        "for i in range(1, len(x)):\n",
        "  if x[i] != 0:\n",
        "    print(\"The array contains one or more nonzero elements.\")\n",
        "    check = 1\n",
        "    break\n",
        "if check == 0:\n",
        "  print(\"Array does not contains any nonzero.\")\n"
      ],
      "metadata": {
        "colab": {
          "base_uri": "https://localhost:8080/"
        },
        "id": "IWMhHEilJH2Z",
        "outputId": "ed3c1e47-b16e-4ff2-e09a-2c52be516ac2"
      },
      "execution_count": 28,
      "outputs": [
        {
          "output_type": "stream",
          "name": "stdout",
          "text": [
            "Array we are checking: [9 9 3 3 8 5 6 8 2 6]\n",
            "The array contains one or more nonzero elements.\n"
          ]
        }
      ]
    },
    {
      "cell_type": "markdown",
      "source": [
        "Write a program to test element-wise for NaN of a given array"
      ],
      "metadata": {
        "id": "xCvtQPbhJ8Z3"
      }
    },
    {
      "cell_type": "code",
      "source": [
        "import numpy as np\n",
        "sum = 0\n",
        "x = np.array([3.0, 45.0, 46.0, np.nan, 1.0, 3.0, np.nan, 6.0, 6.0])\n",
        "print(\"Array we are checking:\",x)\n",
        "for i in x:\n",
        "  if np.isnan(i) == True:\n",
        "    sum = sum + 1\n",
        "print(\"Array contains\",sum,\"NaN values.\")\n",
        ""
      ],
      "metadata": {
        "colab": {
          "base_uri": "https://localhost:8080/"
        },
        "id": "YT5uHjsDKbCG",
        "outputId": "8c43ac21-ae24-4e22-b78b-73d14f1a948d"
      },
      "execution_count": 38,
      "outputs": [
        {
          "output_type": "stream",
          "name": "stdout",
          "text": [
            "Array we are checking: [ 3. 45. 46. nan  1.  3. nan  6.  6.]\n",
            "Array contains 2 NaN values.\n"
          ]
        }
      ]
    },
    {
      "cell_type": "markdown",
      "source": [
        "Write a program to create an array of 10 zeros,10 ones, 10 fives."
      ],
      "metadata": {
        "id": "V4nraCuyMMLi"
      }
    },
    {
      "cell_type": "code",
      "source": [
        "import numpy as np\n",
        "x1 = np.zeros(10)\n",
        "x2 = np.ones(10)\n",
        "x3 = np.ones(10)*5\n",
        "x = np.concatenate((x1, x2, x3))\n",
        "print(x)"
      ],
      "metadata": {
        "colab": {
          "base_uri": "https://localhost:8080/"
        },
        "id": "Yj8A6BAHMTQg",
        "outputId": "d3119183-b6c2-450d-c9c1-f25c40522090"
      },
      "execution_count": 45,
      "outputs": [
        {
          "output_type": "stream",
          "name": "stdout",
          "text": [
            "[0. 0. 0. 0. 0. 0. 0. 0. 0. 0. 1. 1. 1. 1. 1. 1. 1. 1. 1. 1. 5. 5. 5. 5.\n",
            " 5. 5. 5. 5. 5. 5.]\n"
          ]
        }
      ]
    },
    {
      "cell_type": "markdown",
      "source": [
        "Write a program to create an array of all the even integers from 30 to 70"
      ],
      "metadata": {
        "id": "8p5YYDpdOW8v"
      }
    },
    {
      "cell_type": "code",
      "source": [
        "import numpy as np\n",
        "x = np.array([])\n",
        "for i in range(30, 71):\n",
        "  if i % 2 == 0:\n",
        "    x = np.concatenate((x, [i]))\n",
        "print(x)"
      ],
      "metadata": {
        "colab": {
          "base_uri": "https://localhost:8080/"
        },
        "id": "9jWHZ8NROhkv",
        "outputId": "067b6233-f16d-4468-9899-650975c142ac"
      },
      "execution_count": 65,
      "outputs": [
        {
          "output_type": "stream",
          "name": "stdout",
          "text": [
            "[30. 32. 34. 36. 38. 40. 42. 44. 46. 48. 50. 52. 54. 56. 58. 60. 62. 64.\n",
            " 66. 68. 70.]\n"
          ]
        }
      ]
    },
    {
      "cell_type": "markdown",
      "source": [
        "Write a program to create a 3x3 identity matrix"
      ],
      "metadata": {
        "id": "bbtN_9vKQ_wh"
      }
    },
    {
      "cell_type": "code",
      "source": [
        "import numpy as np\n",
        "x = np.identity(3)\n",
        "print(x)"
      ],
      "metadata": {
        "colab": {
          "base_uri": "https://localhost:8080/"
        },
        "id": "bvkl9E6wRG3p",
        "outputId": "dde67bf1-f49c-4413-c8e4-c07ec703db9e"
      },
      "execution_count": 68,
      "outputs": [
        {
          "output_type": "stream",
          "name": "stdout",
          "text": [
            "[[1. 0. 0.]\n",
            " [0. 1. 0.]\n",
            " [0. 0. 1.]]\n"
          ]
        }
      ]
    },
    {
      "cell_type": "markdown",
      "source": [
        "Write a program"
      ],
      "metadata": {
        "id": "GqR0n66oRfTS"
      }
    },
    {
      "cell_type": "code",
      "source": [
        "import numpy as np\n"
      ],
      "metadata": {
        "id": "Y2wLno3kRd9J"
      },
      "execution_count": null,
      "outputs": []
    }
  ]
}