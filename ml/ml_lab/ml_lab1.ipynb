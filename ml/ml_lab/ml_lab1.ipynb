{
  "nbformat": 4,
  "nbformat_minor": 0,
  "metadata": {
    "colab": {
      "provenance": [],
      "authorship_tag": "ABX9TyO7biwLHKGoIhNGloO7+P9q",
      "include_colab_link": true
    },
    "kernelspec": {
      "name": "python3",
      "display_name": "Python 3"
    },
    "language_info": {
      "name": "python"
    }
  },
  "cells": [
    {
      "cell_type": "markdown",
      "metadata": {
        "id": "view-in-github",
        "colab_type": "text"
      },
      "source": [
        "<a href=\"https://colab.research.google.com/github/Devansh1106/sem5/blob/master/ml/ml_lab/ml_lab1.ipynb\" target=\"_parent\"><img src=\"https://colab.research.google.com/assets/colab-badge.svg\" alt=\"Open In Colab\"/></a>"
      ]
    },
    {
      "cell_type": "markdown",
      "source": [
        "1. Write a program that reads two values from the keyboard, swaps their values and prints out the result."
      ],
      "metadata": {
        "id": "m-ZxmD905L4f"
      }
    },
    {
      "cell_type": "code",
      "execution_count": null,
      "metadata": {
        "id": "mStB16hh4536"
      },
      "outputs": [],
      "source": [
        "x = input(\"Enter the first value: x = \")\n",
        "y = input(\"Enter the second value: y = \")\n",
        "\n",
        "temp = x\n",
        "x = y\n",
        "y = temp\n",
        "\n",
        "print(\"After swapping:\")\n",
        "print(\"x =\", x)\n",
        "print(\"y =\", y)"
      ]
    },
    {
      "cell_type": "markdown",
      "source": [
        "2. Write a program that accepts a temperature in Fahrenheit and prints the corresponding temperature in\n",
        "Celsius."
      ],
      "metadata": {
        "id": "oB3SYD8A5Zgd"
      }
    },
    {
      "cell_type": "code",
      "source": [
        "x = input(\"Enter the temperature in Fahenheit: \")\n",
        "y = (int(x) - 32) * 5/9\n",
        "print(\"The temperature in Celsius is: \", y)"
      ],
      "metadata": {
        "id": "OJmHOOAO5e7N"
      },
      "execution_count": null,
      "outputs": []
    },
    {
      "cell_type": "markdown",
      "source": [
        "3. Write a program that accepts 4 real numbers from the keyboard and prints out the difference of the\n",
        "maximum and minimum values of these numbers."
      ],
      "metadata": {
        "id": "scpi0f0v5vgI"
      }
    },
    {
      "cell_type": "code",
      "source": [
        "x = input(\"Enter the first real number: \")\n",
        "y = input(\"Enter the second real number: \")\n",
        "z = input(\"Enter the third real number: \")\n",
        "a = input(\"Enter the fourth real number: \")\n",
        "max_float = max(float(x), float(y), float(z), float(a))\n",
        "min_float = min(float(x), float(y), float(z), float(a))\n",
        "\n",
        "print(\"Difference b3etween maximum and minimum no. is: \",max_float - min_float)\n"
      ],
      "metadata": {
        "id": "1jE1KmJN54c3"
      },
      "execution_count": null,
      "outputs": []
    },
    {
      "cell_type": "markdown",
      "source": [
        "4. Write a program that accepts a real number x from the keyboard and prints out the corresponding value of\n",
        "cos(1/x)"
      ],
      "metadata": {
        "id": "xFFFR46O6jp8"
      }
    },
    {
      "cell_type": "code",
      "source": [
        "import numpy as np\n",
        "x = int(input(\"Enter the real number, x = \"))\n",
        "print(\"cos(1/x) = \",np.cos(1/x))"
      ],
      "metadata": {
        "id": "EHKqtIJg6qno"
      },
      "execution_count": null,
      "outputs": []
    },
    {
      "cell_type": "markdown",
      "source": [
        "5. Write a program that accepts (from the keyboard) a positive integer less than 1000 and prints out the sum\n",
        "of the digits of this number."
      ],
      "metadata": {
        "id": "nchCIQX977O3"
      }
    },
    {
      "cell_type": "code",
      "source": [
        "import sys\n",
        "x = int(input(\"Enter the positive integer less than 1000, x = \"))\n",
        "if x >= 1000 or x < 0:\n",
        "  print(\"Invalid number. Please make sure number is positive and less than 1000\")\n",
        "  sys.exit(0)\n",
        "elif type(x) != int:\n",
        "  print(\"Invalid number. Please make sure number is an integer.\")\n",
        "  sys.exit(0)\n",
        "n = x\n",
        "sum = 0\n",
        "while (x > 0):\n",
        "  n = x%10\n",
        "  sum = sum + n\n",
        "  x = x//10\n",
        "print(\"Summation of the digits of the number is: \",sum)"
      ],
      "metadata": {
        "id": "Q9jXjZSq8AKv"
      },
      "execution_count": null,
      "outputs": []
    },
    {
      "cell_type": "markdown",
      "source": [
        "6. Write a program that calculates the sum of integers between 9 and 300 inclusive which are divisible by 7\n",
        "but not divisible by 63"
      ],
      "metadata": {
        "id": "6AFA08xPAxlI"
      }
    },
    {
      "cell_type": "code",
      "source": [
        "sum = 0\n",
        "for i in range(9,301):\n",
        "  if i % 7 == 0 and i % 63 != 0:\n",
        "    sum = sum + i\n",
        "print(\"Required summation is: \", sum)"
      ],
      "metadata": {
        "colab": {
          "base_uri": "https://localhost:8080/"
        },
        "id": "bFU09i1NA2Bw",
        "outputId": "ff105e54-2c39-4cd4-f43a-25346164a189"
      },
      "execution_count": null,
      "outputs": [
        {
          "output_type": "stream",
          "name": "stdout",
          "text": [
            "Required summation is:  5684\n"
          ]
        }
      ]
    },
    {
      "cell_type": "markdown",
      "source": [
        "7. Write a program that reads an integer n from the keyboard and prints out the factorial of n."
      ],
      "metadata": {
        "id": "UsmjlhIyCEKk"
      }
    },
    {
      "cell_type": "code",
      "source": [
        "def fact(n):\n",
        "  if n == 1 or n == 0:\n",
        "    return 1\n",
        "  else:\n",
        "    return n * fact(n-1)\n",
        "x = int(input(\"Enter the positive interger: x = \"))\n",
        "f = fact(x)\n",
        "print(\"Factorial of n is\",f)"
      ],
      "metadata": {
        "colab": {
          "base_uri": "https://localhost:8080/"
        },
        "id": "cIHNi1uLCJVE",
        "outputId": "f3a05616-4907-4d07-e377-304df4a026b0"
      },
      "execution_count": null,
      "outputs": [
        {
          "output_type": "stream",
          "name": "stdout",
          "text": [
            "Enter the positive interger: x = 5\n",
            "Factorial of n is 120\n"
          ]
        }
      ]
    },
    {
      "cell_type": "markdown",
      "source": [
        "8. Write a program that accepts a non-negative integer from the keyboard and checks whether the entered\n",
        "number is a palindrome number."
      ],
      "metadata": {
        "id": "_twW_oYfDf4J"
      }
    },
    {
      "cell_type": "code",
      "source": [
        "import sys\n",
        "x = int(input(\"Enter a non-negative integer: \"))\n",
        "if x < 0 or type(x) != int:\n",
        "  print(\"Invalid integer. Make sure it is a non-negative integer.\")\n",
        "  sys.exit(0)\n",
        "num_string = str(x)\n",
        "rev_string = num_string[-1::-1]\n",
        "if num_string == rev_string:\n",
        "  print(\"Given number is palindrom\")\n",
        "else:\n",
        "  print(\"Given number is not palindrom\")"
      ],
      "metadata": {
        "id": "Y7vg3oH0DluC",
        "colab": {
          "base_uri": "https://localhost:8080/"
        },
        "outputId": "0300579b-a213-406e-ba86-03b6ed9cfbef"
      },
      "execution_count": 25,
      "outputs": [
        {
          "output_type": "stream",
          "name": "stdout",
          "text": [
            "Enter a non-negative integer: 23\n",
            "Given number is not palindrom\n"
          ]
        }
      ]
    },
    {
      "cell_type": "markdown",
      "source": [
        "Write a program"
      ],
      "metadata": {
        "id": "sR2Cl-FPF3hf"
      }
    }
  ]
}